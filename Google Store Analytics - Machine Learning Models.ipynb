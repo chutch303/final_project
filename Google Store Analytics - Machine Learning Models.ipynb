{
 "cells": [
  {
   "cell_type": "markdown",
   "metadata": {},
   "source": [
    "# Machine Learning of the Google Store Analytics Dataset\n",
    "This dataset is provided by the Kaggle competition.  \n",
    "https://www.kaggle.com/c/ga-customer-revenue-prediction\n",
    "\n",
    "We performed some data engineering and datetime feature engineering to get the dataset to the state we wanted.\n",
    "\n",
    "Now we will try a variety of different models and look at their accuracy.  The models we will try:\n",
    "1. Generalized Linear Regression Models\n",
    "    1. Linear Regression (Ordinary Least Squares) Model\n",
    "    2. Linear Lasso Regression Model\n",
    "    3. Linear Ridge Regression Model\n",
    "    4. Linear Elastic Net Regression Model\n",
    "2. Decision Tree Regression - a combination of decision trees and getting continuous data output http://scikit-learn.org/stable/auto_examples/tree/plot_tree_regression.html  http://scikit-learn.org/stable/modules/generated/sklearn.tree.DecisionTreeRegressor.html#sklearn.tree.DecisionTreeRegressor\n",
    "3. Random Forest Regression??\n",
    "4. Neural Networks"
   ]
  },
  {
   "cell_type": "code",
   "execution_count": 1,
   "metadata": {},
   "outputs": [],
   "source": [
    "import pandas as pd\n",
    "import numpy as np\n",
    "\n",
    "\n",
    "from sklearn.model_selection import train_test_split\n",
    "from sklearn.metrics import mean_squared_error"
   ]
  },
  {
   "cell_type": "code",
   "execution_count": null,
   "metadata": {},
   "outputs": [],
   "source": []
  },
  {
   "cell_type": "markdown",
   "metadata": {},
   "source": [
    "## Importing and Pre-processing of the Training Dataset"
   ]
  },
  {
   "cell_type": "code",
   "execution_count": 6,
   "metadata": {},
   "outputs": [
    {
     "name": "stdout",
     "output_type": "stream",
     "text": [
      "(903652, 44)\n",
      "Index(['channelGrouping', 'date', 'fullVisitorId', 'sessionId',\n",
      "       'socialEngagementType', 'visitId', 'visitNumber', 'visitStartTime',\n",
      "       'device_deviceCategory', 'device_browser', 'device_isMobile',\n",
      "       'device_operatingSystem', 'geoNetwork_subContinent',\n",
      "       'geoNetwork_region', 'geoNetwork_continent', 'geoNetwork_country',\n",
      "       'geoNetwork_city', 'geoNetwork_metro', 'geoNetwork_networkDomain',\n",
      "       'totals_bounces', 'totals_hits', 'totals_newVisits', 'totals_pageviews',\n",
      "       'totals_visits', 'totals_transactionRevenue',\n",
      "       'trafficSource_isTrueDirect', 'trafficSource_keyword',\n",
      "       'trafficSource_source', 'trafficSource_adContent',\n",
      "       'trafficSource_medium', 'trafficSource_referralPath',\n",
      "       'trafficSource_campaign', 'trafficSource_campaignCode', 'city_country',\n",
      "       'lat_lng', 'timezone', 'datetime_iso_utc', 'datetime_iso_local',\n",
      "       'year_local', 'month_local', 'day_local', 'yearday_local',\n",
      "       'weekday_local', 'hour_local'],\n",
      "      dtype='object')\n"
     ]
    }
   ],
   "source": [
    "#import the data engineered and feature engineered training dataset\n",
    "df = pd.read_pickle('data/train_v1_full_data_split.pkl')\n",
    "print(df.shape)\n",
    "print(df.columns)"
   ]
  },
  {
   "cell_type": "code",
   "execution_count": 7,
   "metadata": {},
   "outputs": [
    {
     "name": "stdout",
     "output_type": "stream",
     "text": [
      "(903652, 43)\n"
     ]
    }
   ],
   "source": [
    "### DROP COLUMNS NOT IN FINAL TEST DATA ###\n",
    "#the test dataset does not have the 'trafficSource_campaignCode' column, so drop that from our training set too\n",
    "df.drop('trafficSource_campaignCode', axis=1, inplace=True)\n",
    "print(df.shape)\n",
    "# print(df.columns)\n",
    "# df.head(3)"
   ]
  },
  {
   "cell_type": "code",
   "execution_count": 20,
   "metadata": {},
   "outputs": [],
   "source": [
    "### CHANGE TRANSACTION REVENUE FROM NANs to 0 AND CHANGE to FLOAT TYPE (some are strings)###\n",
    "df.totals_transactionRevenue.fillna(0, inplace=True)\n",
    "\n",
    "df.totals_transactionRevenue = df.totals_transactionRevenue.astype(dtype=float)"
   ]
  },
  {
   "cell_type": "code",
   "execution_count": 36,
   "metadata": {},
   "outputs": [],
   "source": [
    "### CONVERT TRANSACTION REVENUE TO DOLLARS (instead of the e^dollars_revenue) ###\n",
    "df['totals_transactionRevenue_dollars'] = df.totals_transactionRevenue.map(lambda x:\n",
    "                                                                            np.log1p(x))"
   ]
  },
  {
   "cell_type": "code",
   "execution_count": 39,
   "metadata": {},
   "outputs": [
    {
     "name": "stdout",
     "output_type": "stream",
     "text": [
      "(903652, 44)\n",
      "Index(['channelGrouping', 'date', 'fullVisitorId', 'sessionId',\n",
      "       'socialEngagementType', 'visitId', 'visitNumber', 'visitStartTime',\n",
      "       'device_deviceCategory', 'device_browser', 'device_isMobile',\n",
      "       'device_operatingSystem', 'geoNetwork_subContinent',\n",
      "       'geoNetwork_region', 'geoNetwork_continent', 'geoNetwork_country',\n",
      "       'geoNetwork_city', 'geoNetwork_metro', 'geoNetwork_networkDomain',\n",
      "       'totals_bounces', 'totals_hits', 'totals_newVisits', 'totals_pageviews',\n",
      "       'totals_visits', 'totals_transactionRevenue',\n",
      "       'trafficSource_isTrueDirect', 'trafficSource_keyword',\n",
      "       'trafficSource_source', 'trafficSource_adContent',\n",
      "       'trafficSource_medium', 'trafficSource_referralPath',\n",
      "       'trafficSource_campaign', 'city_country', 'lat_lng', 'timezone',\n",
      "       'datetime_iso_utc', 'datetime_iso_local', 'year_local', 'month_local',\n",
      "       'day_local', 'yearday_local', 'weekday_local', 'hour_local',\n",
      "       'totals_transactionRevenue_dollars'],\n",
      "      dtype='object')\n"
     ]
    },
    {
     "data": {
      "text/html": [
       "<div>\n",
       "<style scoped>\n",
       "    .dataframe tbody tr th:only-of-type {\n",
       "        vertical-align: middle;\n",
       "    }\n",
       "\n",
       "    .dataframe tbody tr th {\n",
       "        vertical-align: top;\n",
       "    }\n",
       "\n",
       "    .dataframe thead th {\n",
       "        text-align: right;\n",
       "    }\n",
       "</style>\n",
       "<table border=\"1\" class=\"dataframe\">\n",
       "  <thead>\n",
       "    <tr style=\"text-align: right;\">\n",
       "      <th></th>\n",
       "      <th>channelGrouping</th>\n",
       "      <th>date</th>\n",
       "      <th>fullVisitorId</th>\n",
       "      <th>sessionId</th>\n",
       "      <th>socialEngagementType</th>\n",
       "      <th>visitId</th>\n",
       "      <th>visitNumber</th>\n",
       "      <th>visitStartTime</th>\n",
       "      <th>device_deviceCategory</th>\n",
       "      <th>device_browser</th>\n",
       "      <th>...</th>\n",
       "      <th>timezone</th>\n",
       "      <th>datetime_iso_utc</th>\n",
       "      <th>datetime_iso_local</th>\n",
       "      <th>year_local</th>\n",
       "      <th>month_local</th>\n",
       "      <th>day_local</th>\n",
       "      <th>yearday_local</th>\n",
       "      <th>weekday_local</th>\n",
       "      <th>hour_local</th>\n",
       "      <th>totals_transactionRevenue_dollars</th>\n",
       "    </tr>\n",
       "  </thead>\n",
       "  <tbody>\n",
       "    <tr>\n",
       "      <th>0</th>\n",
       "      <td>Organic Search</td>\n",
       "      <td>20160902</td>\n",
       "      <td>1131660440785968503</td>\n",
       "      <td>1131660440785968503_1472830385</td>\n",
       "      <td>Not Socially Engaged</td>\n",
       "      <td>1472830385</td>\n",
       "      <td>1</td>\n",
       "      <td>1472830385</td>\n",
       "      <td>desktop</td>\n",
       "      <td>Chrome</td>\n",
       "      <td>...</td>\n",
       "      <td>(+03, 3.0)</td>\n",
       "      <td>2016-09-02 15:33:05+00:00</td>\n",
       "      <td>2016-09-02 18:33:05+03:00</td>\n",
       "      <td>2016.0</td>\n",
       "      <td>9.0</td>\n",
       "      <td>2.0</td>\n",
       "      <td>246.0</td>\n",
       "      <td>5.0</td>\n",
       "      <td>18.0</td>\n",
       "      <td>0.0</td>\n",
       "    </tr>\n",
       "    <tr>\n",
       "      <th>1</th>\n",
       "      <td>Organic Search</td>\n",
       "      <td>20160902</td>\n",
       "      <td>377306020877927890</td>\n",
       "      <td>377306020877927890_1472880147</td>\n",
       "      <td>Not Socially Engaged</td>\n",
       "      <td>1472880147</td>\n",
       "      <td>1</td>\n",
       "      <td>1472880147</td>\n",
       "      <td>desktop</td>\n",
       "      <td>Firefox</td>\n",
       "      <td>...</td>\n",
       "      <td>(ACST, 9.5)</td>\n",
       "      <td>2016-09-03 05:22:27+00:00</td>\n",
       "      <td>2016-09-03 14:52:27+09:30</td>\n",
       "      <td>2016.0</td>\n",
       "      <td>9.0</td>\n",
       "      <td>3.0</td>\n",
       "      <td>247.0</td>\n",
       "      <td>6.0</td>\n",
       "      <td>14.0</td>\n",
       "      <td>0.0</td>\n",
       "    </tr>\n",
       "    <tr>\n",
       "      <th>2</th>\n",
       "      <td>Organic Search</td>\n",
       "      <td>20160902</td>\n",
       "      <td>3895546263509774583</td>\n",
       "      <td>3895546263509774583_1472865386</td>\n",
       "      <td>Not Socially Engaged</td>\n",
       "      <td>1472865386</td>\n",
       "      <td>1</td>\n",
       "      <td>1472865386</td>\n",
       "      <td>desktop</td>\n",
       "      <td>Chrome</td>\n",
       "      <td>...</td>\n",
       "      <td>(CEST, 2.0)</td>\n",
       "      <td>2016-09-03 01:16:26+00:00</td>\n",
       "      <td>2016-09-03 03:16:26+02:00</td>\n",
       "      <td>2016.0</td>\n",
       "      <td>9.0</td>\n",
       "      <td>3.0</td>\n",
       "      <td>247.0</td>\n",
       "      <td>6.0</td>\n",
       "      <td>3.0</td>\n",
       "      <td>0.0</td>\n",
       "    </tr>\n",
       "  </tbody>\n",
       "</table>\n",
       "<p>3 rows × 44 columns</p>\n",
       "</div>"
      ],
      "text/plain": [
       "  channelGrouping      date        fullVisitorId  \\\n",
       "0  Organic Search  20160902  1131660440785968503   \n",
       "1  Organic Search  20160902   377306020877927890   \n",
       "2  Organic Search  20160902  3895546263509774583   \n",
       "\n",
       "                        sessionId  socialEngagementType     visitId  \\\n",
       "0  1131660440785968503_1472830385  Not Socially Engaged  1472830385   \n",
       "1   377306020877927890_1472880147  Not Socially Engaged  1472880147   \n",
       "2  3895546263509774583_1472865386  Not Socially Engaged  1472865386   \n",
       "\n",
       "   visitNumber  visitStartTime device_deviceCategory device_browser  \\\n",
       "0            1      1472830385               desktop         Chrome   \n",
       "1            1      1472880147               desktop        Firefox   \n",
       "2            1      1472865386               desktop         Chrome   \n",
       "\n",
       "                 ...                    timezone           datetime_iso_utc  \\\n",
       "0                ...                  (+03, 3.0)  2016-09-02 15:33:05+00:00   \n",
       "1                ...                 (ACST, 9.5)  2016-09-03 05:22:27+00:00   \n",
       "2                ...                 (CEST, 2.0)  2016-09-03 01:16:26+00:00   \n",
       "\n",
       "          datetime_iso_local year_local month_local day_local yearday_local  \\\n",
       "0  2016-09-02 18:33:05+03:00     2016.0         9.0       2.0         246.0   \n",
       "1  2016-09-03 14:52:27+09:30     2016.0         9.0       3.0         247.0   \n",
       "2  2016-09-03 03:16:26+02:00     2016.0         9.0       3.0         247.0   \n",
       "\n",
       "  weekday_local hour_local totals_transactionRevenue_dollars  \n",
       "0           5.0       18.0                               0.0  \n",
       "1           6.0       14.0                               0.0  \n",
       "2           6.0        3.0                               0.0  \n",
       "\n",
       "[3 rows x 44 columns]"
      ]
     },
     "execution_count": 39,
     "metadata": {},
     "output_type": "execute_result"
    }
   ],
   "source": [
    "### view the data ###\n",
    "# df[df.totals_transactionRevenue == 16990000]\n",
    "print(df.shape)\n",
    "print(df.columns)\n",
    "df.head(3)"
   ]
  },
  {
   "cell_type": "code",
   "execution_count": null,
   "metadata": {},
   "outputs": [],
   "source": [
    "### CHANGE OTHER STRINGS TO INTS/FLOATS ###\n",
    "df.totals_bounces = df.totals_bounces.astype(dtype=int)\n",
    "df.totals_hits = df.totals_hits.astype(dtype=int)\n",
    "df.totals_newVisits = df.totals_newVisits.astype(dtype=int)\n",
    "df.totals_pageviews = df.totals_pageviews.astype(dtype=int)\n",
    "df.totals_visits = df.totals_visits.astype(dtype=int)\n",
    "\n",
    "\n"
   ]
  },
  {
   "cell_type": "code",
   "execution_count": 75,
   "metadata": {},
   "outputs": [
    {
     "data": {
      "text/plain": [
       "18.0"
      ]
     },
     "execution_count": 75,
     "metadata": {},
     "output_type": "execute_result"
    }
   ],
   "source": [
    "df.hour_local[0]"
   ]
  },
  {
   "cell_type": "code",
   "execution_count": null,
   "metadata": {},
   "outputs": [],
   "source": [
    "### ONE-HOT ENCODING THE CATEGORICAL VARIALBES ###\n",
    "\n",
    "# label encode the categorical variables and convert the numerical variables to float\n",
    "cat_cols = ['channelGrouping', 'socialEngagementType', \n",
    "       'device_deviceCategory', 'device_browser', 'device_isMobile',\n",
    "       'device_operatingSystem', 'geoNetwork_subContinent',\n",
    "       'geoNetwork_region', 'geoNetwork_continent', 'geoNetwork_country',\n",
    "       'geoNetwork_city', 'geoNetwork_metro', 'geoNetwork_networkDomain',\n",
    "       'trafficSource_isTrueDirect', 'trafficSource_keyword',\n",
    "       'trafficSource_source', 'trafficSource_adContent',\n",
    "       'trafficSource_medium', 'trafficSource_referralPath',\n",
    "       'trafficSource_campaign']\n",
    "       \n",
    "  \n",
    "for col in cat_cols:\n",
    "    print(col)\n",
    "    lbl = preprocessing.LabelEncoder()\n",
    "    lbl.fit(list(train_df[col].values.astype('str')) + list(test_df[col].values.astype('str')))\n",
    "    train_df[col] = lbl.transform(list(train_df[col].values.astype('str')))\n",
    "    test_df[col] = lbl.transform(list(test_df[col].values.astype('str')))\n",
    "\n",
    "\n",
    "num_cols = [\"totals.hits\", \"totals.pageviews\", \"visitNumber\", \"visitStartTime\", 'totals.bounces',  'totals.newVisits']    \n",
    "for col in num_cols:\n",
    "    train_df[col] = train_df[col].astype(float)\n",
    "    test_df[col] = test_df[col].astype(float)\n",
    "\n",
    "# Split the train dataset into development and valid based on time \n",
    "dev_df = train_df[train_df['date']<=datetime.date(2017,5,31)]\n",
    "val_df = train_df[train_df['date']>datetime.date(2017,5,31)]\n",
    "dev_y = np.log1p(dev_df[\"totals.transactionRevenue\"].values)\n",
    "val_y = np.log1p(val_df[\"totals.transactionRevenue\"].values)\n",
    "\n",
    "dev_X = dev_df[cat_cols + num_cols] \n",
    "val_X = val_df[cat_cols + num_cols] \n",
    "test_X = test_df[cat_cols + num_cols] "
   ]
  },
  {
   "cell_type": "code",
   "execution_count": null,
   "metadata": {},
   "outputs": [],
   "source": []
  },
  {
   "cell_type": "code",
   "execution_count": null,
   "metadata": {},
   "outputs": [],
   "source": []
  },
  {
   "cell_type": "code",
   "execution_count": null,
   "metadata": {},
   "outputs": [],
   "source": []
  },
  {
   "cell_type": "code",
   "execution_count": null,
   "metadata": {},
   "outputs": [],
   "source": []
  },
  {
   "cell_type": "code",
   "execution_count": null,
   "metadata": {},
   "outputs": [],
   "source": []
  },
  {
   "cell_type": "code",
   "execution_count": null,
   "metadata": {},
   "outputs": [],
   "source": []
  },
  {
   "cell_type": "code",
   "execution_count": null,
   "metadata": {},
   "outputs": [],
   "source": []
  },
  {
   "cell_type": "code",
   "execution_count": null,
   "metadata": {},
   "outputs": [],
   "source": []
  }
 ],
 "metadata": {
  "kernelspec": {
   "display_name": "Python 3",
   "language": "python",
   "name": "python3"
  },
  "language_info": {
   "codemirror_mode": {
    "name": "ipython",
    "version": 3
   },
   "file_extension": ".py",
   "mimetype": "text/x-python",
   "name": "python",
   "nbconvert_exporter": "python",
   "pygments_lexer": "ipython3",
   "version": "3.6.5"
  }
 },
 "nbformat": 4,
 "nbformat_minor": 2
}
